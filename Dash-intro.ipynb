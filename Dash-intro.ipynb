{
 "cells": [
  {
   "cell_type": "markdown",
   "id": "6e90e259",
   "metadata": {},
   "source": [
    "# Plotly Dash"
   ]
  },
  {
   "cell_type": "markdown",
   "id": "d5b34e30",
   "metadata": {},
   "source": [
    "The following topics will be covered in this session: \n",
    "\n",
    "How to set up the layout of dashboards with Dash components\n",
    "\n",
    "How to create a dashboard with data visualizations\n",
    "\n",
    "How to make the dashboards interactive\n",
    "\n",
    "How to customize the appearance of the dashboard\n",
    "\n",
    "Create a dashboard using real-world datasets\n",
    "\n",
    "Make more dynamic dashboards with chained interactive features\n",
    "\n",
    "Create a live updating dashboard\n",
    "\n",
    "Add buttons to dashboards\n",
    "\n",
    "Create interactive graphs that are clickable\n",
    "\n",
    "Create data tables in dashboards"
   ]
  },
  {
   "cell_type": "markdown",
   "id": "699e17b6",
   "metadata": {},
   "source": [
    "### Pre-requisites. \n",
    "Knowledge of Python basics,\n",
    "Handson experience of basic data wrangling using Pandas and Numpy"
   ]
  },
  {
   "cell_type": "markdown",
   "id": "825400df",
   "metadata": {},
   "source": [
    "### Session Map\n",
    "1 hour session (can get extended by 15 mins)\n",
    "Q&A in the end (as its a short session and there is so much to cover)\n",
    "\n",
    "The session is divided into 4 parts\n",
    "\n",
    "1. first 15 minutes we will develop an understanding of plotly-dash, its core components and layout\n",
    "2. second session we will build a dashboard\n",
    "3. final two sessions we will build a realtime dashboard with a slightly higher complexity by using yfinance package of yahoofinance"
   ]
  },
  {
   "cell_type": "markdown",
   "id": "1292650c",
   "metadata": {},
   "source": [
    "### Plotly is a python visualization library. Dash is React for Python.\n",
    "Uses Flask as a WSGI to run plotly Dash"
   ]
  },
  {
   "cell_type": "markdown",
   "id": "ef57f3f6",
   "metadata": {},
   "source": [
    "## Introduction to Dash\n",
    "\n",
    "Dash is the original low-code framework for rapidly building data apps in Python, R, Julia, and F# (experimental).\n",
    "\n",
    "Written on top of Plotly.js and React.js, Dash is ideal for building and deploying data apps with customized user interfaces. It's particularly suited for anyone who works with data.\n",
    "\n",
    "Through a couple of simple patterns, Dash abstracts away all of the technologies and protocols that are required to build a full-stack web app with interactive data visualization.\n",
    "\n",
    "Dash is simple enough that you can bind a user interface to your code in less than 10 minutes."
   ]
  },
  {
   "cell_type": "markdown",
   "id": "6f7a676d",
   "metadata": {},
   "source": [
    "Dash apps are rendered in the web browser. You can deploy your apps to VMs or Kubernetes clusters and then share them through URLs. Since Dash apps are viewed in the web browser, Dash is inherently cross-platform and mobile ready.\n",
    "\n",
    "There is a lot behind the framework. To learn more about how it is built and what motivated Dash, read the announcement letter or our post Dash is React for Python. Link - https://dash.plotly.com/introduction#:~:text=Dash%2C%20read%20our-,announcement%20letter,-or%20our%20post"
   ]
  },
  {
   "cell_type": "markdown",
   "id": "400c3b61",
   "metadata": {},
   "source": [
    " ## Dash Installation"
   ]
  },
  {
   "cell_type": "markdown",
   "id": "b9d1bc41",
   "metadata": {},
   "source": [
    "In your terminal, install dash.\n",
    "\n",
    "`pip install dash`\n",
    "\n",
    "This also brings along the plotly graphing library. This library is under active development, so install and upgrade frequently.\n",
    "\n",
    "If you prefer Jupyter notebook or JupyterLab as your development environment, we recommend installing jupyter-dash:\n",
    "\n",
    "`pip install jupyter-dash`\n",
    "\n",
    "These docs are running dash version 2.7.0.\n",
    "\n",
    "This version supports Python 3. Versions of dash before 2.0.0 also supported Python 2.\n",
    "\n",
    "We also recommend installing Pandas, which is required by Plotly Express and used in many of our examples.\n",
    "\n",
    "`pip install pandas`"
   ]
  },
  {
   "cell_type": "markdown",
   "id": "d78d45f3",
   "metadata": {},
   "source": [
    "Documentation: https://dash.plotly.com/"
   ]
  },
  {
   "cell_type": "code",
   "execution_count": null,
   "id": "44d3a0f6",
   "metadata": {},
   "outputs": [],
   "source": []
  }
 ],
 "metadata": {
  "kernelspec": {
   "display_name": "Python 3",
   "language": "python",
   "name": "python3"
  },
  "language_info": {
   "codemirror_mode": {
    "name": "ipython",
    "version": 3
   },
   "file_extension": ".py",
   "mimetype": "text/x-python",
   "name": "python",
   "nbconvert_exporter": "python",
   "pygments_lexer": "ipython3",
   "version": "3.8.8"
  }
 },
 "nbformat": 4,
 "nbformat_minor": 5
}
